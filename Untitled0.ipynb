{
  "nbformat": 4,
  "nbformat_minor": 0,
  "metadata": {
    "colab": {
      "provenance": [],
      "authorship_tag": "ABX9TyOkWPDsB2zk27f6duf2EIaw",
      "include_colab_link": true
    },
    "kernelspec": {
      "name": "python3",
      "display_name": "Python 3"
    },
    "language_info": {
      "name": "python"
    }
  },
  "cells": [
    {
      "cell_type": "markdown",
      "metadata": {
        "id": "view-in-github",
        "colab_type": "text"
      },
      "source": [
        "<a href=\"https://colab.research.google.com/github/deepak-07-sk/algorithm-lab/blob/main/Untitled0.ipynb\" target=\"_parent\"><img src=\"https://colab.research.google.com/assets/colab-badge.svg\" alt=\"Open In Colab\"/></a>"
      ]
    },
    {
      "cell_type": "code",
      "source": [
        "def binary_search(arr, target):\n",
        "    \"\"\"\n",
        "    Perform binary search on a sorted array to find the target value.\n",
        "\n",
        "    Parameters:\n",
        "    arr (list): A sorted list of elements.\n",
        "    target (int/float): The element to search for in the list.\n",
        "\n",
        "    Returns:\n",
        "    int: The index of the target element if found, otherwise -1.\n",
        "    \"\"\"\n",
        "    left, right = 0, len(arr) - 1\n",
        "\n",
        "    while left <= right:\n",
        "        mid = left + (right - left) // 2\n",
        "\n",
        "        # Check if target is present at mid\n",
        "        if arr[mid] == target:\n",
        "            return mid\n",
        "        # If target is greater, ignore left half\n",
        "        elif arr[mid] < target:\n",
        "            left = mid + 1\n",
        "        # If target is smaller, ignore right half\n",
        "        else:\n",
        "            right = mid - 1\n",
        "\n",
        "    # Target is not present in the array\n",
        "    return -1\n",
        "\n",
        "# Example usage\n",
        "if __name__ == \"__main__\":\n",
        "    # Sorted array\n",
        "    arr = [2, 3, 4, 10, 40]\n",
        "    target = 10\n",
        "\n",
        "    # Function call\n",
        "    result = binary_search(arr, target)\n",
        "\n",
        "    if result != -1:\n",
        "        print(f\"Element is present at index {result}\")\n",
        "    else:\n",
        "        print(\"Element is not present in array\")"
      ],
      "metadata": {
        "colab": {
          "base_uri": "https://localhost:8080/"
        },
        "id": "ZqUDIY9a5Yoz",
        "outputId": "f631293d-ab41-4a78-8b53-0380762c1f17"
      },
      "execution_count": null,
      "outputs": [
        {
          "output_type": "stream",
          "name": "stdout",
          "text": [
            "Element is present at index 3\n"
          ]
        }
      ]
    }
  ]
}